{
 "cells": [
  {
   "cell_type": "markdown",
   "metadata": {},
   "source": [
    "# Simulation of a crack growth in a thick square plate based on Peridynamic Theory"
   ]
  },
  {
   "cell_type": "markdown",
   "metadata": {},
   "source": [
    "Silling, S. A., & Askari, E. (2005). *A meshfree method based on the peridynamic model of solid mechanics*. *Computers & Structures, 83*(17-18), 1526-1535. https://doi.org/10.1016/j.compstruc.2004.11.026"
   ]
  },
  {
   "cell_type": "markdown",
   "metadata": {},
   "source": [
    "## Setup"
   ]
  },
  {
   "cell_type": "markdown",
   "metadata": {},
   "source": [
    "### Load Python libraries"
   ]
  },
  {
   "cell_type": "markdown",
   "metadata": {},
   "source": [
    "In this section, we will import the python libraries:\n",
    "\n",
    "- **NumPy**: This library is fundamental for numerical computations in Python. It provides support for arrays, matrices, and many mathematical functions that operate on these data structures.\n",
    "- **Matplotlib**: A plotting library for creating static, animated, and interactive visualizations in Python. It's particularly useful for generating plots, histograms, and other types of charts.\n",
    "- **Pandas**: A python library used for working with data sets. It has functions for analyzing, cleaning, exploring, and manipulating data.\n",
    "- **Seaborn**: This python library helps users visualize data through statistical graphics.\n",
    "- **KDTree**: This python package can construct, modify and search kd-trees. A KD Tree is a space-partitioning data structure that organizes points in a k-dimensional space. It is particularly effective for multidimensional search operations such as range searches and nearest-neighbor searches. "
   ]
  },
  {
   "cell_type": "code",
   "execution_count": 215,
   "metadata": {},
   "outputs": [],
   "source": [
    "import numpy as np  \n",
    "import matplotlib.pyplot as plt \n",
    "from matplotlib.animation import FuncAnimation, PillowWriter # For animation\n",
    "import pandas as pd  \n",
    "import seaborn as sns\n",
    "from scipy.spatial import KDTree"
   ]
  },
  {
   "cell_type": "markdown",
   "metadata": {},
   "source": [
    "## Parameters"
   ]
  },
  {
   "cell_type": "markdown",
   "metadata": {},
   "source": [
    "### Consistency of Units in Calculations\n",
    "\n",
    "To avoid errors in our calculations, we will adhere to a consistent set of units for the following physical quanities:\n",
    "\n",
    "- Length/Distance: millimeters (mm)\n",
    "- Mass: kilograms (kg)\n",
    "- Time: microseconds (μs)"
   ]
  },
  {
   "cell_type": "code",
   "execution_count": 233,
   "metadata": {},
   "outputs": [],
   "source": [
    "#Define the dimensions of the 2D plate\n",
    "length = 0.05                                       #Length of the plate\n",
    "width = 0.05                                        #Width of the plate\n",
    "\n",
    "#Define the nodes (node)\n",
    "nx = 50                                            #Number of nodes in x-direction\n",
    "ny = 50                                            #Number of nodes in y-direction\n",
    "\n",
    "#Calculated properties\n",
    "dx = length/nx                                      #Spacing: distance between two consecutive nodes\n",
    "node_radius = dx/2                                  #Radius of one node\n",
    "node_area = dx**2                                   #Area of one node\n",
    "vol = node_area * dx                                #Volume of a node\n",
    "plate_thickness = dx                                #thickness of the plate in z-direction\n",
    "delta = 0.003 #3.015 * dx                                  #Horizon\n",
    "\n",
    "#Other properties\n",
    "rho = 8000                                          #density\n",
    "E = 192e9                                           #Young's Modulus\n",
    "c = 9*E/(np.pi * plate_thickness * (delta**3))      #Material constant\n",
    "\n",
    "#Boundary Regions\n",
    "nbnd = 3                                            #Number of rows for nodes in the boundary regions\n",
    "total_nodes_in_ydir = ny + nbnd + nbnd              #Total number of nodes in y-direction including the nodes in boundary region  \n",
    "ntotal = nx * total_nodes_in_ydir                   #Total number of nodes in the system\n",
    "ninternal_total = nx * ny                           #Total number of nodes without the boundary region\n",
    "\n",
    "#Time\n",
    "total_time = 15\n",
    "del_T = .1\n",
    "time_steps = 10 #int(total_time/del_T) \n",
    "dt = 0.8 * np.sqrt(2*rho*dx/(np.pi * delta**2 * dx * c))"
   ]
  },
  {
   "cell_type": "markdown",
   "metadata": {},
   "source": [
    "## Create Grid Geometry "
   ]
  },
  {
   "cell_type": "markdown",
   "metadata": {},
   "source": [
    "Coordinates for all the nodes inside the 2D plate"
   ]
  },
  {
   "cell_type": "code",
   "execution_count": 234,
   "metadata": {},
   "outputs": [],
   "source": [
    "x_start_location = length/2.0                                   #start location of nodes in x-dir along the length of the 2D plate\n",
    "x_end_location = x_start_location + length/2.0                  #end location of nodes in x-dir along the length of the 2D plate\n",
    "x_coords = np.linspace(x_start_location, -1*x_start_location, total_nodes_in_ydir)    #generate x-coordinates of the nodes in the 2D plate\n",
    "\n",
    "y_start_location = length/2.0                                   #start location of nodes in y-dir along the length of the 2D plate\n",
    "y_end_location = x_start_location + length/2.0                  #start location of nodes in y-dir along the length of the 2D plate\n",
    "y_coords = np.linspace(x_start_location, -1*x_start_location, nx)    #generate y-coordinates of the nodes in the 2D plate"
   ]
  },
  {
   "cell_type": "markdown",
   "metadata": {},
   "source": [
    "Nodes in the Boundary Regions"
   ]
  },
  {
   "cell_type": "code",
   "execution_count": 236,
   "metadata": {},
   "outputs": [
    {
     "name": "stdout",
     "output_type": "stream",
     "text": [
      "Shape of coord_array: 56 nodes in x-dir & 50 nodes in y-dir.\n"
     ]
    }
   ],
   "source": [
    "#Separate the nodes in the top and bottom boundary regions along y-direction\n",
    "# -----------------------------------\n",
    "# --------------- top --------------- \n",
    "# -----------------------------------\n",
    "# xxxxxxxxxxxxxxxxxxxxxxxxxxxxxxxxxxx\n",
    "# xxxxxxxxxxxxxxxxxxxxxxxxxxxxxxxxxxx\n",
    "# xxxxxxxxxxxxxxxxxxxxxxxxxxxxxxxxxxx\n",
    "# xxxxxxxxxxxxxxxxxxxxxxxxxxxxxxxxxxx\n",
    "# -----------------------------------\n",
    "# ------------- bottom -------------- \n",
    "# -----------------------------------\n",
    "\n",
    "top_bnd_region_nodes = y_coords[:3]\n",
    "btm_bnd_region_nodes = y_coords[-3:]\n",
    "\n",
    "#Define the array to store the coordinates for every node\n",
    "coord_array = np.zeros((total_nodes_in_ydir, nx), dtype=object)\n",
    "\n",
    "print(f\"Shape of coord_array: {coord_array.shape[0]} nodes in x-dir & {coord_array.shape[1]} nodes in y-dir.\")\n",
    "\n",
    "#Define parameters for for-loop\n",
    "count = 0                   #count: used as index to store the coordinates of the nodes\n",
    "list_top_nodes_index = []         #list containing all the indices of the nodes in top boundary region\n",
    "list_btm_nodes_index = []         #list containing all the indices of the nodes in bottom boundary region\n",
    "list_internal_nodes_index = []\n",
    "#top_bnd_region_nodes = coord_array[:, :3]\n",
    "#btm_bnd_region_nodes = coord_array[:, -3:]\n",
    "\n",
    "for i in range(total_nodes_in_ydir):\n",
    "    for j in range(nx):\n",
    "        coord_array[i][j] = [x_coords[i], y_coords[j]]\n",
    "\n",
    "        if y_coords[j] >= top_bnd_region_nodes.min():\n",
    "            list_top_nodes_index.append([i, j])\n",
    "\n",
    "        elif y_coords[j] <= btm_bnd_region_nodes.max():\n",
    "            list_btm_nodes_index.append([i, j])\n",
    "        else:\n",
    "            list_internal_nodes_index.append([i, j])"
   ]
  },
  {
   "cell_type": "markdown",
   "metadata": {},
   "source": [
    "### Neighborhood Search"
   ]
  },
  {
   "cell_type": "code",
   "execution_count": 237,
   "metadata": {},
   "outputs": [],
   "source": [
    "flat_coord_array = np.array([coord_array[row, col] for col in range(coord_array.shape[1]) for row in range(coord_array.shape[0])])\n",
    "\n",
    "tree = KDTree(flat_coord_array)\n",
    "\n",
    "neighbors_dict = {}\n",
    "index_coords_array = np.zeros((len(flat_coord_array), 3))\n",
    "for i, coord in enumerate(flat_coord_array):\n",
    "    indices = tree.query_ball_point(coord, delta)\n",
    "    neighbors_dict[i] = [index for index in indices if index != i]\n",
    "    index_coords_array[i, 0] = i \n",
    "    index_coords_array[i, 1] = coord[0]  \n",
    "    index_coords_array[i, 2] = coord[1]"
   ]
  },
  {
   "cell_type": "markdown",
   "metadata": {},
   "source": [
    "Crack in the 2D plate"
   ]
  },
  {
   "cell_type": "code",
   "execution_count": 238,
   "metadata": {},
   "outputs": [
    {
     "name": "stdout",
     "output_type": "stream",
     "text": [
      "0\n"
     ]
    }
   ],
   "source": [
    "# Iterate over the dictionary\n",
    "count = 0\n",
    "for key, values in neighbors_dict.items():\n",
    "    # Check if the length of the list/array is greater than 100\n",
    "    if len(values) > 100:\n",
    "        count = count + 1\n",
    "print(count)"
   ]
  },
  {
   "cell_type": "code",
   "execution_count": 240,
   "metadata": {},
   "outputs": [],
   "source": [
    "def find_index_using_coords(coord_array, xloc, yloc):\n",
    "    for row in coord_array:\n",
    "        if row[1] == xloc and row[2] == yloc:\n",
    "            return(int(row[0]))\n",
    "    print(\"Index not found\")\n",
    "    return None\n",
    "\n",
    "#Define the crack length\n",
    "crlength = 0.005\n",
    "\n",
    "crack_midpoint = (y_coords.min()+y_coords.max())/2.0\n",
    "\n",
    "#define the maximum number of family members inside the fail matrix for the crack\n",
    "#fail matrix defines the bonds which are borken due to the pre-existing crack\n",
    "#0=bond is broken, 1 = bond is not broken\n",
    "fail = np.ones((ntotal, 100))\n",
    "\n",
    "for i in range(total_nodes_in_ydir):                                 #iterate over all nodes in x-direction\n",
    "    for j in range(nx):            #iterate over all nodes in y-direction including the boundary regions\n",
    "        \n",
    "        xloc_xi = coord_array[i, j][0]                 #get the x-coord of the currently selected node\n",
    "        yloc_xi = coord_array[i, j][1]                 #get the y-coord of the currently selected node\n",
    "        \n",
    "        #Get the flattened index using the (xloc, yloc) for the current node (xi)\n",
    "        idx_xi = find_index_using_coords(index_coords_array, xloc_xi, yloc_xi)\n",
    "\n",
    "        #count will keep a track of the index in the node family for each xi\n",
    "        count = 0                                   # reset count to 0 for every new xi\n",
    "        #print(\"xi\", xloc_xi, yloc_xi)\n",
    "        #Iterate over all the neighbors (family nodes) of xi\n",
    "        for xp in neighbors_dict[idx_xi]:\n",
    "\n",
    "            if idx_xi==xp:\n",
    "                break\n",
    "\n",
    "            \"\"\"\n",
    "                       *xi\n",
    "                -----------------------   crack (y=ymid)\n",
    "                                *xp\n",
    "            \"\"\"\n",
    "            # Looking at the above example, if the bonds between xi and xp pass\n",
    "            # through the crack line, the bond will be declared broken. Therefore,\n",
    "            # there will be a zero value for that array in the fail matrix.\n",
    "\n",
    "            #Get the x & y coordinates for xp\n",
    "            xloc_xp = index_coords_array[xp][1]             #Get x-coord for xp\n",
    "            yloc_xp = index_coords_array[xp][2]             #Get y-coord for xp\n",
    "\n",
    "            if (xloc_xp>0) and (xloc_xi<0) or (xloc_xi>0 and xloc_xp<0):\n",
    "                if (abs(xloc_xi) - (crlength/2.0)) <= 1e-10 or (abs(xloc_xp)-(crlength/2))<=1e-10:\n",
    "                    fail[idx_xi, count] = 0\n",
    "            count=count+1"
   ]
  },
  {
   "cell_type": "markdown",
   "metadata": {},
   "source": [
    "Lets do a practice code here\n",
    "Write a function which finds how many bonds are present, and broken for a particular node"
   ]
  },
  {
   "cell_type": "code",
   "execution_count": 241,
   "metadata": {},
   "outputs": [
    {
     "name": "stdout",
     "output_type": "stream",
     "text": [
      "Node 23: 0 / 18 bonds broken\n",
      "Nodes [] bonds are broken with Node 23\n"
     ]
    }
   ],
   "source": [
    "def stats_nodes_bonds(node_id, fail_matrix, neighbors_dict):\n",
    "\n",
    "    #Get values for the current node\n",
    "    neighbors_of_node_id = neighbors_dict.get(node_id)\n",
    "\n",
    "    #Find the number of bonds present for node_id\n",
    "    num_of_bnds_for_node_id = len(neighbors_of_node_id)\n",
    "\n",
    "    #Get the nodes for the bonds of node_id from the fail matrix\n",
    "    mat_fail_real_bnds = fail[node_id, :num_of_bnds_for_node_id]\n",
    "    \n",
    "\n",
    "    #Print the statistics for the bonds\n",
    "    print(f\"Node {node_id}: {np.count_nonzero(mat_fail_real_bnds == 0)} / {num_of_bnds_for_node_id} bonds broken\")\n",
    "\n",
    "    #Find the node_id with broken bonds\n",
    "\n",
    "    broken_bonds_position_in_fail_mat = [i for i, value in enumerate(mat_fail_real_bnds) if value == 0]\n",
    "\n",
    "    node_ids_with_broken_bonds = [neighbors_of_node_id[i] for i in broken_bonds_position_in_fail_mat]\n",
    "    \n",
    "    print(f\"Nodes {node_ids_with_broken_bonds} bonds are broken with Node {node_id}\")\n",
    "\n",
    "stats_nodes_bonds(23, fail, neighbors_dict)"
   ]
  },
  {
   "cell_type": "markdown",
   "metadata": {},
   "source": [
    "Practice code: Make a grid visualization showing the bonds broken over the nodes"
   ]
  },
  {
   "cell_type": "code",
   "execution_count": 251,
   "metadata": {},
   "outputs": [],
   "source": [
    "#get the col and row\n",
    "\n",
    "def get_col_row(index, num_of_cols):\n",
    "    return index//num_of_cols, index%num_of_cols #row, col\n",
    "\n",
    "#Create a grid using 0 matrix\n",
    "\n",
    "grid_viz = np.zeros((total_nodes_in_ydir, nx))\n",
    "\n",
    "#Select a particular node. \n",
    "#identify its node id in the nieghbors dict\n",
    "#calculate = number of broken bonds/ total number of bonds\n",
    "#put the ratio in that node.\n",
    "\n",
    "# \n",
    "for current_node in range(nx*total_nodes_in_ydir):\n",
    "    \n",
    "    #Get values for the current node\n",
    "    neighbors_of_current_node = neighbors_dict.get(current_node)\n",
    "\n",
    "    #Find the number of bonds present for node_id\n",
    "    num_of_bnds_for_current_node = len(neighbors_of_current_node)\n",
    "\n",
    "    #Get the nodes for the bonds of node_id from the fail matrix\n",
    "    mat_fail_real_bnds = fail[current_node, :num_of_bnds_for_current_node]\n",
    "    \n",
    "    #Print the statistics for the bonds\n",
    "    #print(f\"Node {node_id}: {np.count_nonzero(mat_fail_real_bnds == 0)} / {num_of_bnds_for_node_id} bonds broken\")\n",
    "\n",
    "    #Find the node_id with broken bonds\n",
    "\n",
    "    percent_bonds_broken = np.count_nonzero(mat_fail_real_bnds == 0)#/num_of_bnds_for_current_node\n",
    "\n",
    "    row, col = get_col_row(current_node, total_nodes_in_ydir)\n",
    "    \n",
    "    grid_viz[col, row] = percent_bonds_broken\n"
   ]
  },
  {
   "cell_type": "code",
   "execution_count": 252,
   "metadata": {},
   "outputs": [
    {
     "data": {
      "text/plain": [
       "array([[0., 0., 0., ..., 0., 0., 0.],\n",
       "       [0., 0., 0., ..., 0., 0., 0.],\n",
       "       [0., 0., 0., ..., 0., 0., 0.],\n",
       "       ...,\n",
       "       [0., 0., 0., ..., 0., 0., 0.],\n",
       "       [0., 0., 0., ..., 0., 0., 0.],\n",
       "       [0., 0., 0., ..., 0., 0., 0.]])"
      ]
     },
     "execution_count": 252,
     "metadata": {},
     "output_type": "execute_result"
    }
   ],
   "source": [
    "grid_viz"
   ]
  },
  {
   "cell_type": "code",
   "execution_count": 253,
   "metadata": {},
   "outputs": [
    {
     "data": {
      "text/plain": [
       "(56, 50)"
      ]
     },
     "execution_count": 253,
     "metadata": {},
     "output_type": "execute_result"
    }
   ],
   "source": [
    "grid_viz.shape"
   ]
  },
  {
   "cell_type": "code",
   "execution_count": 254,
   "metadata": {},
   "outputs": [
    {
     "data": {
      "image/png": "[encoded data removed]",
      "text/plain": [
       "<Figure size 720x720 with 2 Axes>"
      ]
     },
     "metadata": {
      "needs_background": "light"
     },
     "output_type": "display_data"
    }
   ],
   "source": [
    "# Enhancing the visualization with additional parameters\n",
    "plt.figure(figsize=(10, 10))\n",
    "plt.imshow(grid_viz, cmap='plasma', interpolation='nearest')\n",
    "\n",
    "# Adding a color bar with labels and title\n",
    "cbar = plt.colorbar(fraction=0.046, pad=0.04, shrink=0.8)\n",
    "cbar.set_label('Percentage of Bonds Broken Per Node', rotation=270, labelpad=10)\n",
    "\n",
    "\n",
    "# Customizing ticks and grid\n",
    "plt.xticks(ticks=np.arange(grid_viz.shape[1]), labels=[f'{i}' for i in range(grid_viz.shape[1])], fontsize=7)\n",
    "plt.yticks(ticks=np.arange(grid_viz.shape[0]), labels=[f'{i}' for i in range(grid_viz.shape[0])], fontsize=7)\n",
    "\n",
    "# Adding a grid for clarity\n",
    "plt.grid(visible=False)\n",
    "\n",
    "# Show the final plot\n",
    "plt.show()\n"
   ]
  },
  {
   "cell_type": "markdown",
   "metadata": {},
   "source": [
    "### Displacement Calculations"
   ]
  },
  {
   "cell_type": "code",
   "execution_count": 255,
   "metadata": {},
   "outputs": [
    {
     "data": {
      "text/plain": [
       "'\\n    #Time stepping loop\\n\\n    #Set current time\\n    \\n    #Enforce boundary conditions\\n\\n    #Clear internal force vectors\\n\\n    #Compute the internal force \\n\\n    #Compute the nodal acceleration\\n\\n    #Compute the nodal velocity\\n\\n    #Compute the new displacement\\n\\n    #Compute stable time step\\n\\n    #Compute damage\\n\\n\\n'"
      ]
     },
     "execution_count": 255,
     "metadata": {},
     "output_type": "execute_result"
    }
   ],
   "source": [
    "\"\"\"\n",
    "    #Time stepping loop\n",
    "\n",
    "    #Set current time\n",
    "    \n",
    "    #Enforce boundary conditions\n",
    "\n",
    "    #Clear internal force vectors\n",
    "\n",
    "    #Compute the internal force \n",
    "\n",
    "    #Compute the nodal acceleration\n",
    "\n",
    "    #Compute the nodal velocity\n",
    "\n",
    "    #Compute the new displacement\n",
    "\n",
    "    #Compute stable time step\n",
    "\n",
    "    #Compute damage\n",
    "\n",
    "\n",
    "\"\"\""
   ]
  },
  {
   "cell_type": "markdown",
   "metadata": {},
   "source": [
    "Let's write the code for only one time step"
   ]
  },
  {
   "cell_type": "code",
   "execution_count": null,
   "metadata": {},
   "outputs": [],
   "source": [
    "#Make temporary arrays\n",
    "dispx = np.zeros_like(grid_viz)\n",
    "dispy = np.zeros_like(grid_viz)\n",
    "velx = np.zeros_like(grid_viz)\n",
    "vely = np.zeros_like(grid_viz)\n",
    "forcex = np.zeros_like(grid_viz)\n",
    "forcey = np.zeros_like(grid_viz)\n",
    "\n",
    "\n",
    "#Go through all the nodes\n",
    "\n",
    "#Let's say we are in the first time step here.\n",
    "\n",
    "#We enforce the boundary condition first\n",
    "\n",
    "iteration = 1\n",
    "current_time = iteration * del_T\n",
    "\n",
    "#Enforce the boundary conditions\n",
    "\n",
    "#We have displacement vector, therefore, we will have dispx and dispy\n",
    "#Boundary condition is defined by velocity, hence, we can not use velocity value in displacement vector\n",
    "#Hence, we will multiply the velocity vector by time, to get the displacement\n",
    "\n"
   ]
  },
  {
   "cell_type": "code",
   "execution_count": null,
   "metadata": {},
   "outputs": [],
   "source": []
  },
  {
   "cell_type": "code",
   "execution_count": null,
   "metadata": {},
   "outputs": [],
   "source": []
  },
  {
   "cell_type": "code",
   "execution_count": 514,
   "metadata": {},
   "outputs": [],
   "source": [
    "#define the 3D array for the displacement of the nodes\n",
    "\n",
    "dispx = np.zeros((time_steps, nx, total_nodes_in_ydir))     #Define the displacement in x direction\n",
    "dispy = np.zeros((time_steps, nx, total_nodes_in_ydir))     #Define the displacement in y direction\n",
    "vel = np.zeros((time_steps, nx, total_nodes_in_ydir))       #Define the velocity \n",
    "\n",
    "bforce = np.zeros((time_steps, nx, total_nodes_in_ydir))    #bforce will be defined in the loop\n",
    "pforce1 = np.zeros((time_steps, nx, total_nodes_in_ydir))    #pforce will be defined in the loop\n",
    "pforce2 = np.zeros((time_steps, nx, total_nodes_in_ydir))    #pforce will be defined in the loop\n",
    "pforce_old = np.zeros((time_steps, nx, total_nodes_in_ydir))#will be defeind in the loop\n",
    "acc1 = np.zeros((time_steps, nx, total_nodes_in_ydir))       #Acceleration will be defined in the loop\n",
    "acc2 = np.zeros((time_steps, nx, total_nodes_in_ydir))       #Acceleration will be defined in the loop\n",
    "\n",
    "\n",
    "total_internal_nodes = nx*ny                                #Number of nodes without boundary regions\n",
    "poissonratio = 1/3            #Poisson ratio"
   ]
  },
  {
   "cell_type": "code",
   "execution_count": 515,
   "metadata": {},
   "outputs": [
    {
     "data": {
      "text/plain": [
       "(10, 50, 56)"
      ]
     },
     "execution_count": 515,
     "metadata": {},
     "output_type": "execute_result"
    }
   ],
   "source": [
    "dispy.shape"
   ]
  },
  {
   "cell_type": "code",
   "execution_count": 516,
   "metadata": {},
   "outputs": [
    {
     "data": {
      "text/plain": [
       "(50, 56)"
      ]
     },
     "execution_count": 516,
     "metadata": {},
     "output_type": "execute_result"
    }
   ],
   "source": [
    "coord_array.shape"
   ]
  },
  {
   "cell_type": "code",
   "execution_count": 501,
   "metadata": {},
   "outputs": [],
   "source": [
    "top_nodes_x_index = [list[0] for list in list_top_nodes_index]\n",
    "top_nodes_y_index = [list[1] for list in list_top_nodes_index]\n",
    "\n",
    "btm_nodes_x_index = [list[0] for list in list_btm_nodes_index]\n",
    "btm_nodes_y_index = [list[1] for list in list_btm_nodes_index]\n",
    "\n",
    "internal_nodes_x_index = [list[0] for list in list_internal_nodes_index]\n",
    "internal_nodes_y_index = [list[1] for list in list_internal_nodes_index]\n",
    "\n",
    "#Loop through all the time_steps\n",
    "for time_this_iteration in range(time_steps):\n",
    "\n",
    "    #returns the time at current iteration\n",
    "    time_elapsed = time_this_iteration * dt\n",
    "\n",
    "    #Assign boundary condition to all the top nodes\n",
    "    #We have all the nodes in top region with their coordinats stored at list_top_nodes\n",
    "    \n",
    "    for i in top_nodes_x_index:\n",
    "        for j in top_nodes_y_index:\n",
    "            dispy[time_this_iteration, i, j] = -20 * time_this_iteration * dt\n",
    "            vel[time_this_iteration, i, j] = -20\n",
    "    \n",
    "    for i in btm_nodes_x_index:\n",
    "        for j in btm_nodes_y_index:\n",
    "            dispy[time_this_iteration, i, j] = 20 * time_this_iteration * dt\n",
    "            vel[time_this_iteration, i, j] = 20\n",
    "\n",
    "    for i in list_internal_nodes_index:\n",
    "\n",
    "            #i is given by [i,j]\n",
    "            #so we have the indices i,j for xi\n",
    "            #find the coordinates of xi\n",
    "\n",
    "            x_idx = i[0]\n",
    "            y_idx = i[1]\n",
    "\n",
    "            xloc_xi = coord_array[x_idx, y_idx][0]\n",
    "            yloc_xi = coord_array[x_idx, y_idx][1]\n",
    "\n",
    "            idx_xi = find_index_using_coords(index_coords_array, xloc_xi, yloc_xi)\n",
    "\n",
    "            #Iterate over all the neighbors (family nodes) of xi\n",
    "            for xp in neighbors_dict[idx_xi]:\n",
    "\n",
    "                if idx_xi==xp:\n",
    "                    break\n",
    "\n",
    "                #Get the x & y coordinates for xp\n",
    "                xloc_xp = index_coords_array[xp][1]             #Get x-coord for xp\n",
    "                yloc_xp = index_coords_array[xp][2]             #Get y-coord for xp\n",
    "\n",
    "                idist = np.sqrt((xloc_xp-xloc_xi)**2 \n",
    "                                + (yloc_xp - yloc_xi)**2)\n",
    "                \n",
    "                #Get the i,j for xp\n",
    "                xp_idx_x, xp_idx_y = convert(xp, nx, total_nodes_in_ydir)\n",
    "                \n",
    "                #get the displacement values for disp at xp\n",
    "                dispx_xp = dispx[time_this_iteration, xp_idx_x, xp_idx_y]\n",
    "                dispy_xp = dispy[time_this_iteration, xp_idx_x, xp_idx_y]\n",
    "\n",
    "                #get the displacement values for disp at xp\n",
    "                dispx_xi = dispx[time_this_iteration, i[0], i[1]]\n",
    "                dispy_xi = dispy[time_this_iteration, i[0], i[1]]\n",
    "\n",
    "                nlength = np.sqrt((xloc_xp+dispx_xp - xloc_xi - dispx_xi)**2 \n",
    "                                  + (yloc_xp + dispy_xp - yloc_xi - dispy_xi)**2)\n",
    "                \n",
    "            if fail[i[0], i[1]] == 1:\n",
    "                    dforce1 = c * (nlength-idist) / idist*vol*((xloc_xp+dispx_xp-xloc_xi-dispx_xi)/nlength)\n",
    "                    dforce2 = c * (nlength-idist) / idist*vol*((yloc_xp+dispy_xp-yloc_xi-dispy_xi)/nlength)\n",
    "            else:\n",
    "                    dforce1 = 0\n",
    "                    dforce2 = 0\n",
    "\n",
    "            pforce1[time_this_iteration, i[0], i[1]] = pforce1[time_this_iteration, i[0], i[1]] + dforce1\n",
    "            pforce2[time_this_iteration, i[0], i[1]] = pforce2[time_this_iteration, i[0], i[1]] + dforce2\n",
    "\n",
    "    for i in list_internal_nodes_index:\n",
    "        acc1[time_this_iteration, i[0], i[1]] = (pforce1[time_this_iteration, i[0], i[1]] + bforce[time_this_iteration, i[0], i[1]]) / rho\n",
    "        acc2[time_this_iteration, i[0], i[1]] = (pforce2[time_this_iteration, i[0], i[1]] + bforce[time_this_iteration, i[0], i[1]]) / rho\n",
    "        vel[time_this_iteration, i[0], i[1]] = vel[time_this_iteration, i[0], i[1]] + acc1[time_this_iteration, i[0], i[1]] *dt\n",
    "        dispx[time_this_iteration, i[0], i[1]] = dispx[time_this_iteration, i[0], i[1]] + vel[time_this_iteration, i[0], i[1]] * dt\n",
    "        dispy[time_this_iteration, i[0], i[1]] = dispy[time_this_iteration, i[0], i[1]] + vel[time_this_iteration, i[0], i[1]] * dt                     "
   ]
  },
  {
   "cell_type": "code",
   "execution_count": 503,
   "metadata": {},
   "outputs": [],
   "source": [
    "disp_test = dispy[5,:,:]"
   ]
  },
  {
   "cell_type": "code",
   "execution_count": null,
   "metadata": {},
   "outputs": [],
   "source": [
    "disp_test"
   ]
  },
  {
   "cell_type": "code",
   "execution_count": null,
   "metadata": {},
   "outputs": [],
   "source": [
    "dispy"
   ]
  },
  {
   "cell_type": "code",
   "execution_count": null,
   "metadata": {},
   "outputs": [],
   "source": [
    "list_internal_nodes_index"
   ]
  },
  {
   "cell_type": "code",
   "execution_count": null,
   "metadata": {},
   "outputs": [],
   "source": [
    "pforce"
   ]
  },
  {
   "cell_type": "code",
   "execution_count": 460,
   "metadata": {},
   "outputs": [
    {
     "data": {
      "text/plain": [
       "(10, 50, 56)"
      ]
     },
     "execution_count": 460,
     "metadata": {},
     "output_type": "execute_result"
    }
   ],
   "source": [
    "vel.shape"
   ]
  },
  {
   "cell_type": "code",
   "execution_count": null,
   "metadata": {},
   "outputs": [],
   "source": []
  }
 ],
 "metadata": {
  "kernelspec": {
   "display_name": "base",
   "language": "python",
   "name": "python3"
  },
  "language_info": {
   "codemirror_mode": {
    "name": "ipython",
    "version": 3
   },
   "file_extension": ".py",
   "mimetype": "text/x-python",
   "name": "python",
   "nbconvert_exporter": "python",
   "pygments_lexer": "ipython3",
   "version": "3.9.7"
  }
 },
 "nbformat": 4,
 "nbformat_minor": 2
}
